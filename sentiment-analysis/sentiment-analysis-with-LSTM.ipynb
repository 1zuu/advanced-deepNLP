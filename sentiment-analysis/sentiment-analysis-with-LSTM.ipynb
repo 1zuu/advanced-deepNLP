{
 "cells": [
  {
   "cell_type": "markdown",
   "id": "81a597b4-3260-4430-b985-efad9178d8db",
   "metadata": {},
   "source": [
    "# **Import Dependencies**"
   ]
  },
  {
   "cell_type": "code",
   "execution_count": 1,
   "id": "a5a55e12-1f74-4ba5-8c25-afdefe93d214",
   "metadata": {},
   "outputs": [],
   "source": [
    "import re\n",
    "import numpy as np\n",
    "import pandas as pd\n",
    "\n",
    "import seaborn as sns\n",
    "from tqdm import tqdm\n",
    "import matplotlib.pyplot as plt\n",
    "\n",
    "from sklearn.utils import shuffle\n",
    "from sklearn.preprocessing import LabelEncoder\n",
    "from sklearn.model_selection import train_test_split\n",
    "\n",
    "from nltk import word_tokenize\n",
    "from nltk.corpus import stopwords\n",
    "from nltk.stem import WordNetLemmatizer\n",
    "from nltk.tokenize import RegexpTokenizer\n",
    "\n",
    "import torch\n",
    "import torch.nn as nn\n",
    "import torch.nn.functional as F\n",
    "from torchsummary import summary\n",
    "from torch.utils.data import TensorDataset, DataLoader"
   ]
  },
  {
   "cell_type": "markdown",
   "id": "73b5a102-8703-47a1-9b38-186c9da45bef",
   "metadata": {},
   "source": [
    "# **Data Paths /  Weights / Hparams**"
   ]
  },
  {
   "cell_type": "code",
   "execution_count": 32,
   "id": "61d136ec-7a9e-4a9c-af44-f0732833082b",
   "metadata": {},
   "outputs": [
    {
     "name": "stdout",
     "output_type": "stream",
     "text": [
      "Device : cuda:0\n"
     ]
    }
   ],
   "source": [
    "file_name = 'tweets.csv'\n",
    "headers = ['target', 'ids', 'date', 'flag', 'user', 'text']\n",
    "\n",
    "lemmatizer = WordNetLemmatizer()\n",
    "tokenizer = RegexpTokenizer(r'\\w+')\n",
    "stopwords_list = stopwords.words('english')\n",
    "\n",
    "random_state = 1234\n",
    "test_size = 0.15\n",
    "val_size = 0.15\n",
    "\n",
    "oov_token = '<OOV>'\n",
    "pad_token = '<PAD>'\n",
    "device =  torch.device('cpu' if not torch.cuda.is_available() else 'cuda:0') \n",
    "batch_size = 128\n",
    "\n",
    "print(\"Device : {}\".format(device))"
   ]
  },
  {
   "cell_type": "markdown",
   "id": "7cb48343-aef6-48a9-a6af-2395c6d0f8dd",
   "metadata": {},
   "source": [
    "# **Load Intital Data Set, Analyze, Preprocess & VIsualize**"
   ]
  },
  {
   "cell_type": "code",
   "execution_count": 3,
   "id": "b0f3b00c-2c13-46ba-845b-8ba62909f5cc",
   "metadata": {},
   "outputs": [],
   "source": [
    "def get_data(file_namet, down_sample=True):\n",
    "    data = pd.read_csv(\n",
    "                    file_name,\n",
    "                    names=headers,\n",
    "                    encoding='latin-1'\n",
    "                    )\n",
    "    \n",
    "    data = shuffle(data)\n",
    "    \n",
    "    data = data[['target', 'text']]\n",
    "    data['target'] = data['target'].astype(int)\n",
    "    data = data.dropna()\n",
    "    \n",
    "    if down_sample:\n",
    "        data = data.sample(\n",
    "                        frac=0.1, \n",
    "                        replace=False, \n",
    "                        random_state=random_state\n",
    "                        ) # Since I have Limited Resources I downsample the dataset heavily\n",
    "    return data"
   ]
  },
  {
   "cell_type": "code",
   "execution_count": 4,
   "id": "badcd5c0-0983-4165-9f57-a53ade8110ea",
   "metadata": {},
   "outputs": [],
   "source": [
    "def vis_class_imbalance(data):\n",
    "    target = data['target'].values\n",
    "    counts = pd.Series(target).value_counts()\n",
    "    sns.barplot(\n",
    "            x=np.array(['negative','positive']),\n",
    "            y=counts.values\n",
    "               )  \n",
    "    plt.title('Class Imbalance of Twitter Dataset')\n",
    "    plt.xlabel('Sentiment')\n",
    "    plt.xlabel('Counts')\n",
    "    plt.savefig('imbalance.png')\n",
    "    plt.show()"
   ]
  },
  {
   "cell_type": "code",
   "execution_count": 5,
   "id": "5cc1049a-fd12-4131-bf2e-ea54761ea35b",
   "metadata": {},
   "outputs": [],
   "source": [
    "def lemmatization(lemmatizer,sentence):\n",
    "    lem = [lemmatizer.lemmatize(k) for k in sentence]\n",
    "    return [k for k in lem if k]\n",
    "\n",
    "def remove_stop_words(stopwords_list,sentence):\n",
    "    return [k for k in sentence if k not in stopwords_list]\n",
    "\n",
    "def preprocess_one(tweet):\n",
    "    tweet = tweet.lower()\n",
    "    remove_punc = tokenizer.tokenize(tweet) # Remove puntuations\n",
    "    remove_num = [re.sub('[0-9]', '', i) for i in remove_punc] # Remove Numbers\n",
    "    remove_num = [i for i in remove_num if len(i)>0] # Remove empty strings\n",
    "    lemmatized = lemmatization(lemmatizer,remove_num) # Word Lemmatization\n",
    "    remove_stop = remove_stop_words(stopwords_list,lemmatized) # remove stop words\n",
    "    updated_tweet = ' '.join(remove_stop)\n",
    "    return updated_tweet\n",
    "\n",
    "def preprocessed_data(tweets):\n",
    "    updated_tweets = []\n",
    "    if isinstance(tweets, np.ndarray) or isinstance(tweets, list):\n",
    "        for tweet in tweets:\n",
    "            updated_tweet = preprocess_one(tweet)\n",
    "            updated_tweets.append(updated_tweet)\n",
    "    elif isinstance(tweets, np.str_)  or isinstance(tweets, str):\n",
    "        updated_tweets = [preprocess_one(tweets)]\n",
    "\n",
    "    return np.array(updated_tweets)"
   ]
  },
  {
   "cell_type": "code",
   "execution_count": 6,
   "id": "aede67f6-f3c3-4ab8-b7ed-8f99cd389d67",
   "metadata": {},
   "outputs": [],
   "source": [
    "data = get_data(file_name)"
   ]
  },
  {
   "cell_type": "code",
   "execution_count": 7,
   "id": "21afd7d9-3fad-4fc1-b640-40c57f0523c3",
   "metadata": {},
   "outputs": [
    {
     "data": {
      "image/png": "[encoded data removed]",
      "text/plain": [
       "<Figure size 432x288 with 1 Axes>"
      ]
     },
     "metadata": {
      "needs_background": "light"
     },
     "output_type": "display_data"
    }
   ],
   "source": [
    "vis_class_imbalance(data)"
   ]
  },
  {
   "cell_type": "code",
   "execution_count": 8,
   "id": "26f9753a-7839-4b30-9315-b3e3efcf7b76",
   "metadata": {},
   "outputs": [
    {
     "name": "stdout",
     "output_type": "stream",
     "text": [
      "Train Samples : 115600\n",
      "Val   Samples : 20400\n",
      "Test  Samples : 24000\n"
     ]
    }
   ],
   "source": [
    "tweets = data['text'].values\n",
    "targets = data['target'].values\n",
    "\n",
    "tweets, targets = shuffle(tweets, targets)\n",
    "\n",
    "tweets = preprocessed_data(tweets)\n",
    "\n",
    "X, X_test, Y, Y_test = train_test_split(\n",
    "                                    tweets, \n",
    "                                    targets, \n",
    "                                    test_size=test_size, \n",
    "                                    random_state=random_state\n",
    "                                    )\n",
    "\n",
    "X, X_val, Y, Y_val = train_test_split(\n",
    "                                    X, \n",
    "                                    Y, \n",
    "                                    test_size=val_size, \n",
    "                                    random_state=random_state\n",
    "                                    )\n",
    "\n",
    "print('Train Samples : {}'.format(len(Y)))\n",
    "print('Val   Samples : {}'.format(len(Y_val)))\n",
    "print('Test  Samples : {}'.format(len(Y_test)))\n",
    "\n",
    "encoder = LabelEncoder()\n",
    "encoder.fit(Y)\n",
    "\n",
    "Y = encoder.transform(Y)\n",
    "Y_val = encoder.transform(Y_val)\n",
    "Y_test = encoder.transform(Y_test)"
   ]
  },
  {
   "cell_type": "markdown",
   "id": "5f3fa0b1-e98f-42ee-af16-1370fa4e3a0d",
   "metadata": {},
   "source": [
    "# **Create Vocabulary, Tokenization & Padding**"
   ]
  },
  {
   "cell_type": "code",
   "execution_count": 9,
   "id": "52adde03-84d5-4664-b8dc-d55eb4c320d8",
   "metadata": {},
   "outputs": [],
   "source": [
    "def extract_vocabulary(X):\n",
    "    vocab = {}\n",
    "    for x in X:\n",
    "        tokens = x.split(' ')\n",
    "        for token in tokens:\n",
    "            if token in vocab:\n",
    "                vocab[token] += 1\n",
    "            else:\n",
    "                vocab[token] = 1\n",
    "                \n",
    "    vocab  = dict(\n",
    "                sorted(\n",
    "                    vocab.items(), \n",
    "                    key=lambda item: item[1], \n",
    "                    reverse=True\n",
    "                       )\n",
    "                )\n",
    "    vocab = {token : idx+1 for idx, token in enumerate(list(vocab.keys()))}\n",
    "    \n",
    "    vocab[oov_token] = len(vocab) + 1\n",
    "    vocab[pad_token] = 0\n",
    "    \n",
    "    print(f'The Size of the Vocabulary is {len(vocab)}')\n",
    "    \n",
    "    return vocab\n",
    "\n",
    "def tokenize_data(tweets, vocab):\n",
    "    sequences = []\n",
    "    for tweet in tweets:\n",
    "        tokens = tweet.split(' ')\n",
    "        sequence = [vocab[token] if (token in vocab) else vocab[oov_token] for token in tokens]\n",
    "        sequences.append(sequence)\n",
    "    return sequences\n",
    "\n",
    "def vis_length_variation(X_SEQ):\n",
    "    X_len = [len(i) for i in X_SEQ]\n",
    "    X_len = pd.Series(X_len)\n",
    "    X_len.hist()\n",
    "    plt.xlabel('Token Length')\n",
    "    plt.ylabel('Samples')\n",
    "    plt.savefig('sequence length.png')\n",
    "    plt.show()\n",
    "    \n",
    "    print(X_len.describe())"
   ]
  },
  {
   "cell_type": "code",
   "execution_count": 10,
   "id": "5861cdac-a508-4f9c-856e-95243cdd11ca",
   "metadata": {},
   "outputs": [
    {
     "name": "stdout",
     "output_type": "stream",
     "text": [
      "The Size of the Vocabulary is 98735\n"
     ]
    }
   ],
   "source": [
    "vocab = extract_vocabulary(X)"
   ]
  },
  {
   "cell_type": "code",
   "execution_count": 11,
   "id": "8ef2ec47-b910-43ec-a3f9-ccc3fe9ffe83",
   "metadata": {},
   "outputs": [],
   "source": [
    "X_SEQ = tokenize_data(X, vocab)\n",
    "X_val_SEQ = tokenize_data(X_val, vocab)\n",
    "X_test_SEQ = tokenize_data(X_test, vocab)"
   ]
  },
  {
   "cell_type": "code",
   "execution_count": 12,
   "id": "266b930e-6635-4529-8bf2-72bc60eaf689",
   "metadata": {},
   "outputs": [
    {
     "data": {
      "image/png": "[encoded data removed]",
      "text/plain": [
       "<Figure size 432x288 with 1 Axes>"
      ]
     },
     "metadata": {
      "needs_background": "light"
     },
     "output_type": "display_data"
    },
    {
     "name": "stdout",
     "output_type": "stream",
     "text": [
      "count    115600.000000\n",
      "mean          7.791462\n",
      "std           4.106026\n",
      "min           1.000000\n",
      "25%           5.000000\n",
      "50%           7.000000\n",
      "75%          11.000000\n",
      "max         116.000000\n",
      "dtype: float64\n"
     ]
    }
   ],
   "source": [
    "vis_length_variation(X_SEQ)"
   ]
  },
  {
   "cell_type": "code",
   "execution_count": 48,
   "id": "31912f97-a364-493a-80e9-a9c5accebb50",
   "metadata": {},
   "outputs": [],
   "source": [
    "max_length = 116"
   ]
  },
  {
   "cell_type": "code",
   "execution_count": 49,
   "id": "7928cd45-3961-4907-ad9d-f030906e775c",
   "metadata": {},
   "outputs": [],
   "source": [
    "def pad_tokens(sequences, max_length=max_length):\n",
    "    seq_tensor = np.zeros((len(sequences), max_length))\n",
    "    for idx, sequence in enumerate(sequences):\n",
    "        if len(sequence) >= max_length:\n",
    "            seq_tensor[idx, :] = np.array(sequence[:max_length])\n",
    "        else:\n",
    "            redundancy_length = max_length - len(sequence)\n",
    "            padded_sequence = [vocab[pad_token]] * redundancy_length + sequence\n",
    "            seq_tensor[idx, :] = np.array(padded_sequence)\n",
    "            \n",
    "    return seq_tensor"
   ]
  },
  {
   "cell_type": "code",
   "execution_count": 50,
   "id": "ec89c16a-f8e6-4b9b-a6f3-1944fe49ddce",
   "metadata": {},
   "outputs": [],
   "source": [
    "X_PAD = pad_tokens(X_SEQ)\n",
    "X_val_PAD = pad_tokens(X_val_SEQ)\n",
    "X_test_PAD = pad_tokens(X_test_SEQ)"
   ]
  },
  {
   "cell_type": "code",
   "execution_count": 51,
   "id": "327c1488-bdc1-4201-9cac-e40eefa0deae",
   "metadata": {},
   "outputs": [],
   "source": [
    "X_PAD = X_PAD.astype(np.int32)\n",
    "X_val_PAD = X_val_PAD.astype(np.int32)\n",
    "X_test_PAD = X_test_PAD.astype(np.int32)"
   ]
  },
  {
   "cell_type": "code",
   "execution_count": 52,
   "id": "d0babf45-00e0-470c-a395-193d63079be0",
   "metadata": {},
   "outputs": [
    {
     "data": {
      "text/plain": [
       "array([[    0,     0,     0, ...,   280,     1,  1790],\n",
       "       [    0,     0,     0, ...,     0, 17383,   301],\n",
       "       [    0,     0,     0, ...,   510,    58,   190],\n",
       "       ...,\n",
       "       [    0,     0,     0, ...,   198,    20,    70],\n",
       "       [    0,     0,     0, ...,   896,  3014, 27633],\n",
       "       [    0,     0,     0, ...,  5814,  2134,    16]])"
      ]
     },
     "execution_count": 52,
     "metadata": {},
     "output_type": "execute_result"
    }
   ],
   "source": [
    "X_PAD"
   ]
  },
  {
   "cell_type": "code",
   "execution_count": 53,
   "id": "5161a2fd-0fae-485e-a70e-f16e2b8b10ef",
   "metadata": {},
   "outputs": [
    {
     "data": {
      "text/plain": [
       "array([[    0,     0,     0, ...,  5526,   558,   113],\n",
       "       [    0,     0,     0, ...,     0,    36,  1359],\n",
       "       [    0,     0,     0, ...,   216,  6294,    56],\n",
       "       ...,\n",
       "       [    0,     0,     0, ...,  2568,   100,   363],\n",
       "       [    0,     0,     0, ...,    51,   335,   458],\n",
       "       [    0,     0,     0, ..., 98734,   284,    55]])"
      ]
     },
     "execution_count": 53,
     "metadata": {},
     "output_type": "execute_result"
    }
   ],
   "source": [
    "X_val_PAD"
   ]
  },
  {
   "cell_type": "code",
   "execution_count": 54,
   "id": "c43cd898-9711-430a-88ee-f0098e38908e",
   "metadata": {},
   "outputs": [
    {
     "data": {
      "text/plain": [
       "array([[    0,     0,     0, ...,  5489,    12,   219],\n",
       "       [    0,     0,     0, ...,  3128,  1864,   431],\n",
       "       [    0,     0,     0, ...,  1012,     6,    31],\n",
       "       ...,\n",
       "       [    0,     0,     0, ...,   925,  9516,   220],\n",
       "       [    0,     0,     0, ...,  8053,   349,    48],\n",
       "       [    0,     0,     0, ..., 98734,   709,    16]])"
      ]
     },
     "execution_count": 54,
     "metadata": {},
     "output_type": "execute_result"
    }
   ],
   "source": [
    "X_test_PAD"
   ]
  },
  {
   "cell_type": "markdown",
   "id": "df078f91-0c41-44d7-9b61-ff0da7f92282",
   "metadata": {},
   "source": [
    "# **Numpy to Troch DataLoader**"
   ]
  },
  {
   "cell_type": "code",
   "execution_count": 55,
   "id": "925b8c5a-b821-432b-9a99-1718d952da8f",
   "metadata": {},
   "outputs": [],
   "source": [
    "#Tensor Dataset\n",
    "train_data = TensorDataset(\n",
    "                    torch.from_numpy(X_PAD), \n",
    "                    torch.from_numpy(Y)\n",
    "                            )\n",
    "\n",
    "valid_data = TensorDataset(\n",
    "                    torch.from_numpy(X_val_PAD), \n",
    "                    torch.from_numpy(Y_val)\n",
    "                            )\n",
    "\n",
    "test_data = TensorDataset(\n",
    "                    torch.from_numpy(X_test_PAD), \n",
    "                    torch.from_numpy(Y_test)\n",
    "                            )\n",
    "\n",
    "# dataloaders\n",
    "train_loader = DataLoader(\n",
    "                    train_data, \n",
    "                    shuffle=True, \n",
    "                    drop_last=True,\n",
    "                    batch_size=batch_size\n",
    "                        )\n",
    "\n",
    "valid_loader = DataLoader(\n",
    "                    valid_data, \n",
    "                    shuffle=True, \n",
    "                    drop_last=True,\n",
    "                    batch_size=batch_size\n",
    "                        )\n",
    "\n",
    "test_data = DataLoader(\n",
    "                    test_data, \n",
    "                    shuffle=True,\n",
    "                    drop_last=True,\n",
    "                    batch_size=batch_size\n",
    "                        )"
   ]
  },
  {
   "cell_type": "code",
   "execution_count": 56,
   "id": "872351f6-7e1e-4c61-bb87-031ef5dd9cd5",
   "metadata": {},
   "outputs": [
    {
     "name": "stdout",
     "output_type": "stream",
     "text": [
      "Input  Sample : \n",
      "tensor([[    0,     0,     0,  ...,     0,    77,    75],\n",
      "        [    0,     0,     0,  ...,    43,   317,   558],\n",
      "        [    0,     0,     0,  ...,    29,   118,   694],\n",
      "        ...,\n",
      "        [    0,     0,     0,  ...,  1573,  1217,   614],\n",
      "        [    0,     0,     0,  ...,   510,   100, 97212],\n",
      "        [    0,     0,     0,  ...,    15,   441,   211]], device='cuda:0',\n",
      "       dtype=torch.int32)\n",
      "Output Sample : \n",
      "tensor([0, 0, 1, 1, 0, 0, 0, 1, 1, 0, 0, 0, 0, 0, 1, 1, 1, 1, 1, 0, 1, 1, 0, 0,\n",
      "        0, 1, 1, 0, 0, 0, 1, 0, 1, 1, 1, 1, 0, 0, 0, 1, 1, 0, 0, 0, 0, 1, 1, 0,\n",
      "        1, 0, 0, 0, 0, 0, 1, 0, 0, 1, 1, 0, 0, 1, 0, 1, 0, 0, 0, 1, 0, 1, 1, 0,\n",
      "        1, 1, 0, 1, 0, 0, 1, 0, 1, 1, 0, 0, 1, 1, 0, 0, 0, 0, 0, 0, 1, 1, 0, 0,\n",
      "        0, 1, 1, 0, 1, 0, 1, 0, 0, 1, 1, 0, 1, 1, 1, 1, 0, 1, 0, 1, 0, 1, 0, 0,\n",
      "        1, 1, 1, 0, 1, 1, 1, 0], device='cuda:0')\n"
     ]
    }
   ],
   "source": [
    "# Check the Data Shapes of DataLoader Iteration\n",
    "x_next, y_next = iter(train_loader).next()\n",
    "\n",
    "print('Input  Sample : \\n{}'.format(x_next.to(device)))\n",
    "print('Output Sample : \\n{}'.format(y_next.to(device)))"
   ]
  },
  {
   "cell_type": "markdown",
   "id": "2b6e2fdb-69b5-402e-b841-9259ff8f19fc",
   "metadata": {},
   "source": [
    "# **Sentiment Analysis LSTM Model**"
   ]
  },
  {
   "cell_type": "code",
   "execution_count": 57,
   "id": "cc7b78a3-f778-4187-ad42-a45021baee50",
   "metadata": {},
   "outputs": [],
   "source": [
    "class SentimentAnalysis(nn.Module):\n",
    "    def __init__(\n",
    "                self, \n",
    "                vocab_size, \n",
    "                num_layers=2,\n",
    "                embedding_dim=256,\n",
    "                hidden_dim_lstm=256,\n",
    "                hidden_dim_linear1=512,\n",
    "                hidden_dim_linear2=256,\n",
    "                hidden_dim_linear3=64,\n",
    "                dropout_rate = 0.4,\n",
    "                device=device\n",
    "                ):\n",
    "        super(SentimentAnalysis,self).__init__()\n",
    "        \n",
    "        self.embedding_layer = nn.Embedding(vocab_size, embedding_dim)\n",
    "        self.lstm_layer = nn.LSTM(\n",
    "                                input_size=embedding_dim,\n",
    "                                hidden_size=hidden_dim_lstm,\n",
    "                                num_layers=num_layers, \n",
    "                                batch_first=True\n",
    "                                )\n",
    "        \n",
    "        self.dropout_layer = nn.Dropout(dropout_rate)\n",
    "\n",
    "        self.linear_layer0 = nn.Linear(hidden_dim_lstm, hidden_dim_linear1)\n",
    "        self.linear_layer1 = nn.Linear(hidden_dim_linear1, hidden_dim_linear2)\n",
    "        self.linear_layer2 = nn.Linear(hidden_dim_linear2, hidden_dim_linear3)\n",
    "        self.linear_layer3 = nn.Linear(hidden_dim_linear3, 1)\n",
    "        \n",
    "        self.output_layer = nn.Sigmoid()\n",
    "        \n",
    "        \n",
    "        self.device = device\n",
    "        self.num_layers = num_layers\n",
    "        self.hidden_dim_lstm = hidden_dim_lstm\n",
    "        \n",
    "    def forward(self, x):\n",
    "        x = x.long()\n",
    "        h_init = torch.zeros(self.num_layers, batch_size, self.hidden_dim_lstm).to(self.device)\n",
    "        c_init = torch.zeros(self.num_layers, batch_size, self.hidden_dim_lstm).to(self.device)\n",
    "        \n",
    "        memory_init = (h_init, c_init)\n",
    "        \n",
    "        x = self.embedding_layer(x)\n",
    "        x, _ = self.lstm_layer(x, memory_init) \n",
    "        \n",
    "        '''\n",
    "        \n",
    "        output shape : (batch_size, sequence_length, hidden_dim)\n",
    "        \n",
    "        But we only need the output of last time step (end of the sequence). so the \n",
    "        required output shape is,\n",
    "                       (batch_size, 1, hidden_dim)\n",
    "                       \n",
    "        After Squeezing over 2nd dimension output should be,\n",
    "                       (batch_size, hidden_dim) \n",
    "        \n",
    "        '''\n",
    "        \n",
    "        x = x[:,-1,:]\n",
    "        x = x.view(batch_size, self.hidden_dim_lstm)\n",
    "        \n",
    "        x = self.dropout_layer(x)\n",
    "        x = self.linear_layer0(x)\n",
    "        x = self.linear_layer1(x)\n",
    "        x = self.linear_layer2(x)\n",
    "        x = self.linear_layer3(x)\n",
    "        \n",
    "        x = self.output_layer(x)\n",
    "        return x\n"
   ]
  },
  {
   "cell_type": "markdown",
   "id": "5a776220-4d7d-4568-b692-602286d616d5",
   "metadata": {},
   "source": [
    "# **Model Loss / Optimizer & Metrics**"
   ]
  },
  {
   "cell_type": "code",
   "execution_count": 58,
   "id": "419c790b-ffe4-43c2-945d-c8ac9131eddc",
   "metadata": {},
   "outputs": [],
   "source": [
    "vocab_size = len(vocab) + 1\n",
    "model = SentimentAnalysis(vocab_size)\n",
    "model = model.to(device)"
   ]
  },
  {
   "cell_type": "code",
   "execution_count": 59,
   "id": "ecd74ec3-ab90-4e1c-81c0-c1dc645efc7e",
   "metadata": {},
   "outputs": [],
   "source": [
    "learning_rate = 0.0001\n",
    "criterion = nn.BCELoss()\n",
    "optimizer = torch.optim.Adam(\n",
    "                        model.parameters(), \n",
    "                        lr = learning_rate\n",
    "                        )"
   ]
  },
  {
   "cell_type": "code",
   "execution_count": 60,
   "id": "3cd3e78a-dda6-4a15-8b57-540b3eb0ff16",
   "metadata": {},
   "outputs": [],
   "source": [
    "def binary_accuracy(preds, y):\n",
    "    rounded_preds = torch.round(preds)\n",
    "    correct = (rounded_preds == y).float()\n",
    "    acc = correct.sum() / len(correct)\n",
    "    return acc"
   ]
  },
  {
   "cell_type": "markdown",
   "id": "aabefea3-00a0-4807-8a76-568b39f91153",
   "metadata": {},
   "source": [
    "# **Model Training**"
   ]
  },
  {
   "cell_type": "code",
   "execution_count": 61,
   "id": "fccdec52-82b0-46f8-a108-30d07fc870d9",
   "metadata": {},
   "outputs": [],
   "source": [
    "def train_epoch():\n",
    "    \n",
    "    train_epoch_loss = 0\n",
    "    train_epoch_acc = 0\n",
    "    \n",
    "    val_epoch_loss = 0\n",
    "    val_epoch_acc = 0\n",
    "\n",
    "    model.train() # Training the Model\n",
    "    \n",
    "    for inputs, labels in tqdm(train_loader):\n",
    "        inputs, labels = inputs.to(device), labels.to(device) \n",
    "        \n",
    "        optimizer.zero_grad()\n",
    "        predictions = model(inputs).squeeze(1)\n",
    "        loss = criterion(predictions, labels.float())\n",
    "        acc = binary_accuracy(predictions, labels.float())\n",
    "        \n",
    "        loss.backward()\n",
    "        optimizer.step()\n",
    "        \n",
    "        train_epoch_loss += loss.item()\n",
    "        train_epoch_acc += acc.item()\n",
    "        \n",
    "    train_epoch_loss = train_epoch_loss / len(train_loader)\n",
    "    train_epoch_acc = train_epoch_acc / len(train_loader)\n",
    "    \n",
    "    model.eval() # Validate the Model\n",
    "        \n",
    "    for inputs, labels in tqdm(valid_loader):\n",
    "        inputs, labels = inputs.to(device), labels.to(device) \n",
    "        \n",
    "        predictions = model(inputs).squeeze()\n",
    "\n",
    "        loss = criterion(predictions, labels.float())\n",
    "        acc = binary_accuracy(predictions, labels.float())\n",
    "        \n",
    "        val_epoch_loss += loss.item()\n",
    "        val_epoch_acc += acc.item()\n",
    "        \n",
    "    val_epoch_loss = val_epoch_loss / len(valid_loader)\n",
    "    val_epoch_acc = val_epoch_acc / len(valid_loader)\n",
    "    \n",
    "    return train_epoch_loss, train_epoch_acc, val_epoch_loss, val_epoch_acc"
   ]
  },
  {
   "cell_type": "code",
   "execution_count": 62,
   "id": "4ba4990b-d4fe-4b5d-b0af-496508a62cc1",
   "metadata": {},
   "outputs": [
    {
     "name": "stderr",
     "output_type": "stream",
     "text": [
      "  0%|                                                                                          | 0/903 [00:00<?, ?it/s]"
     ]
    },
    {
     "name": "stdout",
     "output_type": "stream",
     "text": [
      "Epoch 1\n",
      "\n"
     ]
    },
    {
     "name": "stderr",
     "output_type": "stream",
     "text": [
      "100%|████████████████████████████████████████████████████████████████████████████████| 903/903 [00:35<00:00, 25.16it/s]\n",
      "100%|███████████████████████████████████████████████████████████████████████████████| 159/159 [00:01<00:00, 123.42it/s]\n",
      "  1%|▌                                                                                 | 6/903 [00:00<00:30, 29.09it/s]"
     ]
    },
    {
     "name": "stdout",
     "output_type": "stream",
     "text": [
      "Train Loss : 0.594, Validation Loss : 0.547\n",
      "Train Acc  : 0.672, Validation Acc  : 0.714\n",
      "Epoch 2\n",
      "\n"
     ]
    },
    {
     "name": "stderr",
     "output_type": "stream",
     "text": [
      "100%|████████████████████████████████████████████████████████████████████████████████| 903/903 [00:33<00:00, 26.77it/s]\n",
      "100%|███████████████████████████████████████████████████████████████████████████████| 159/159 [00:01<00:00, 126.46it/s]\n",
      "  0%|▎                                                                                 | 3/903 [00:00<00:32, 27.77it/s]"
     ]
    },
    {
     "name": "stdout",
     "output_type": "stream",
     "text": [
      "Train Loss : 0.518, Validation Loss : 0.524\n",
      "Train Acc  : 0.742, Validation Acc  : 0.736\n",
      "Epoch 3\n",
      "\n"
     ]
    },
    {
     "name": "stderr",
     "output_type": "stream",
     "text": [
      "100%|████████████████████████████████████████████████████████████████████████████████| 903/903 [00:31<00:00, 28.29it/s]\n",
      "100%|███████████████████████████████████████████████████████████████████████████████| 159/159 [00:01<00:00, 123.32it/s]\n",
      "  0%|▎                                                                                 | 3/903 [00:00<00:32, 28.03it/s]"
     ]
    },
    {
     "name": "stdout",
     "output_type": "stream",
     "text": [
      "Train Loss : 0.483, Validation Loss : 0.515\n",
      "Train Acc  : 0.768, Validation Acc  : 0.747\n",
      "Epoch 4\n",
      "\n"
     ]
    },
    {
     "name": "stderr",
     "output_type": "stream",
     "text": [
      "100%|████████████████████████████████████████████████████████████████████████████████| 903/903 [00:32<00:00, 28.12it/s]\n",
      "100%|███████████████████████████████████████████████████████████████████████████████| 159/159 [00:01<00:00, 121.77it/s]\n",
      "  0%|▎                                                                                 | 3/903 [00:00<00:33, 27.27it/s]"
     ]
    },
    {
     "name": "stdout",
     "output_type": "stream",
     "text": [
      "Train Loss : 0.452, Validation Loss : 0.514\n",
      "Train Acc  : 0.788, Validation Acc  : 0.75\n",
      "Epoch 5\n",
      "\n"
     ]
    },
    {
     "name": "stderr",
     "output_type": "stream",
     "text": [
      "100%|████████████████████████████████████████████████████████████████████████████████| 903/903 [00:34<00:00, 25.91it/s]\n",
      "100%|███████████████████████████████████████████████████████████████████████████████| 159/159 [00:01<00:00, 115.18it/s]\n",
      "  0%|▎                                                                                 | 3/903 [00:00<00:31, 28.84it/s]"
     ]
    },
    {
     "name": "stdout",
     "output_type": "stream",
     "text": [
      "Train Loss : 0.421, Validation Loss : 0.509\n",
      "Train Acc  : 0.807, Validation Acc  : 0.753\n",
      "Epoch 6\n",
      "\n"
     ]
    },
    {
     "name": "stderr",
     "output_type": "stream",
     "text": [
      "100%|████████████████████████████████████████████████████████████████████████████████| 903/903 [00:34<00:00, 26.00it/s]\n",
      "100%|███████████████████████████████████████████████████████████████████████████████| 159/159 [00:01<00:00, 108.07it/s]\n",
      "  0%|▎                                                                                 | 3/903 [00:00<00:40, 22.06it/s]"
     ]
    },
    {
     "name": "stdout",
     "output_type": "stream",
     "text": [
      "Train Loss : 0.39, Validation Loss : 0.545\n",
      "Train Acc  : 0.825, Validation Acc  : 0.751\n",
      "Epoch 7\n",
      "\n"
     ]
    },
    {
     "name": "stderr",
     "output_type": "stream",
     "text": [
      "100%|████████████████████████████████████████████████████████████████████████████████| 903/903 [00:33<00:00, 27.31it/s]\n",
      "100%|███████████████████████████████████████████████████████████████████████████████| 159/159 [00:01<00:00, 115.53it/s]\n",
      "  0%|▎                                                                                 | 3/903 [00:00<00:32, 27.75it/s]"
     ]
    },
    {
     "name": "stdout",
     "output_type": "stream",
     "text": [
      "Train Loss : 0.355, Validation Loss : 0.564\n",
      "Train Acc  : 0.845, Validation Acc  : 0.749\n",
      "Epoch 8\n",
      "\n"
     ]
    },
    {
     "name": "stderr",
     "output_type": "stream",
     "text": [
      "100%|████████████████████████████████████████████████████████████████████████████████| 903/903 [00:36<00:00, 24.51it/s]\n",
      "100%|███████████████████████████████████████████████████████████████████████████████| 159/159 [00:01<00:00, 118.54it/s]\n",
      "  0%|▎                                                                                 | 3/903 [00:00<00:39, 23.07it/s]"
     ]
    },
    {
     "name": "stdout",
     "output_type": "stream",
     "text": [
      "Train Loss : 0.318, Validation Loss : 0.622\n",
      "Train Acc  : 0.863, Validation Acc  : 0.742\n",
      "Epoch 9\n",
      "\n"
     ]
    },
    {
     "name": "stderr",
     "output_type": "stream",
     "text": [
      "100%|████████████████████████████████████████████████████████████████████████████████| 903/903 [00:31<00:00, 28.39it/s]\n",
      "100%|███████████████████████████████████████████████████████████████████████████████| 159/159 [00:01<00:00, 127.89it/s]\n",
      "  0%|▎                                                                                 | 3/903 [00:00<00:30, 29.41it/s]"
     ]
    },
    {
     "name": "stdout",
     "output_type": "stream",
     "text": [
      "Train Loss : 0.281, Validation Loss : 0.66\n",
      "Train Acc  : 0.882, Validation Acc  : 0.74\n",
      "Epoch 10\n",
      "\n"
     ]
    },
    {
     "name": "stderr",
     "output_type": "stream",
     "text": [
      "100%|████████████████████████████████████████████████████████████████████████████████| 903/903 [00:31<00:00, 28.92it/s]\n",
      "100%|███████████████████████████████████████████████████████████████████████████████| 159/159 [00:01<00:00, 122.56it/s]\n",
      "  0%|▎                                                                                 | 3/903 [00:00<00:34, 25.86it/s]"
     ]
    },
    {
     "name": "stdout",
     "output_type": "stream",
     "text": [
      "Train Loss : 0.244, Validation Loss : 0.752\n",
      "Train Acc  : 0.9, Validation Acc  : 0.731\n",
      "Epoch 11\n",
      "\n"
     ]
    },
    {
     "name": "stderr",
     "output_type": "stream",
     "text": [
      "100%|████████████████████████████████████████████████████████████████████████████████| 903/903 [00:31<00:00, 28.78it/s]\n",
      "100%|███████████████████████████████████████████████████████████████████████████████| 159/159 [00:01<00:00, 126.45it/s]\n",
      "  0%|▎                                                                                 | 3/903 [00:00<00:30, 29.40it/s]"
     ]
    },
    {
     "name": "stdout",
     "output_type": "stream",
     "text": [
      "Train Loss : 0.207, Validation Loss : 0.832\n",
      "Train Acc  : 0.917, Validation Acc  : 0.727\n",
      "Epoch 12\n",
      "\n"
     ]
    },
    {
     "name": "stderr",
     "output_type": "stream",
     "text": [
      "100%|████████████████████████████████████████████████████████████████████████████████| 903/903 [00:31<00:00, 29.11it/s]\n",
      "100%|███████████████████████████████████████████████████████████████████████████████| 159/159 [00:01<00:00, 127.48it/s]\n",
      "  0%|▎                                                                                 | 3/903 [00:00<00:31, 28.84it/s]"
     ]
    },
    {
     "name": "stdout",
     "output_type": "stream",
     "text": [
      "Train Loss : 0.174, Validation Loss : 1.049\n",
      "Train Acc  : 0.931, Validation Acc  : 0.726\n",
      "Epoch 13\n",
      "\n"
     ]
    },
    {
     "name": "stderr",
     "output_type": "stream",
     "text": [
      "100%|████████████████████████████████████████████████████████████████████████████████| 903/903 [00:33<00:00, 27.19it/s]\n",
      "100%|███████████████████████████████████████████████████████████████████████████████| 159/159 [00:01<00:00, 122.99it/s]\n",
      "  0%|▎                                                                                 | 3/903 [00:00<00:30, 29.12it/s]"
     ]
    },
    {
     "name": "stdout",
     "output_type": "stream",
     "text": [
      "Train Loss : 0.142, Validation Loss : 1.09\n",
      "Train Acc  : 0.946, Validation Acc  : 0.728\n",
      "Epoch 14\n",
      "\n"
     ]
    },
    {
     "name": "stderr",
     "output_type": "stream",
     "text": [
      "100%|████████████████████████████████████████████████████████████████████████████████| 903/903 [00:33<00:00, 26.75it/s]\n",
      "100%|███████████████████████████████████████████████████████████████████████████████| 159/159 [00:01<00:00, 110.78it/s]\n",
      "  0%|▎                                                                                 | 3/903 [00:00<00:37, 23.80it/s]"
     ]
    },
    {
     "name": "stdout",
     "output_type": "stream",
     "text": [
      "Train Loss : 0.119, Validation Loss : 1.337\n",
      "Train Acc  : 0.955, Validation Acc  : 0.724\n",
      "Epoch 15\n",
      "\n"
     ]
    },
    {
     "name": "stderr",
     "output_type": "stream",
     "text": [
      "100%|████████████████████████████████████████████████████████████████████████████████| 903/903 [00:33<00:00, 26.94it/s]\n",
      "100%|███████████████████████████████████████████████████████████████████████████████| 159/159 [00:01<00:00, 124.87it/s]\n",
      "  0%|▎                                                                                 | 3/903 [00:00<00:30, 29.12it/s]"
     ]
    },
    {
     "name": "stdout",
     "output_type": "stream",
     "text": [
      "Train Loss : 0.097, Validation Loss : 1.653\n",
      "Train Acc  : 0.964, Validation Acc  : 0.721\n",
      "Epoch 16\n",
      "\n"
     ]
    },
    {
     "name": "stderr",
     "output_type": "stream",
     "text": [
      "100%|████████████████████████████████████████████████████████████████████████████████| 903/903 [00:32<00:00, 27.84it/s]\n",
      "100%|███████████████████████████████████████████████████████████████████████████████| 159/159 [00:01<00:00, 125.21it/s]\n",
      "  0%|▎                                                                                 | 3/903 [00:00<00:31, 28.84it/s]"
     ]
    },
    {
     "name": "stdout",
     "output_type": "stream",
     "text": [
      "Train Loss : 0.08, Validation Loss : 2.092\n",
      "Train Acc  : 0.971, Validation Acc  : 0.721\n",
      "Epoch 17\n",
      "\n"
     ]
    },
    {
     "name": "stderr",
     "output_type": "stream",
     "text": [
      "100%|████████████████████████████████████████████████████████████████████████████████| 903/903 [00:33<00:00, 27.34it/s]\n",
      "100%|███████████████████████████████████████████████████████████████████████████████| 159/159 [00:01<00:00, 122.47it/s]\n",
      "  0%|▎                                                                                 | 3/903 [00:00<00:31, 28.57it/s]"
     ]
    },
    {
     "name": "stdout",
     "output_type": "stream",
     "text": [
      "Train Loss : 0.067, Validation Loss : 2.244\n",
      "Train Acc  : 0.976, Validation Acc  : 0.705\n",
      "Epoch 18\n",
      "\n"
     ]
    },
    {
     "name": "stderr",
     "output_type": "stream",
     "text": [
      "100%|████████████████████████████████████████████████████████████████████████████████| 903/903 [00:33<00:00, 26.66it/s]\n",
      "100%|███████████████████████████████████████████████████████████████████████████████| 159/159 [00:01<00:00, 126.97it/s]\n",
      "  0%|▎                                                                                 | 3/903 [00:00<00:31, 28.57it/s]"
     ]
    },
    {
     "name": "stdout",
     "output_type": "stream",
     "text": [
      "Train Loss : 0.059, Validation Loss : 2.578\n",
      "Train Acc  : 0.978, Validation Acc  : 0.717\n",
      "Epoch 19\n",
      "\n"
     ]
    },
    {
     "name": "stderr",
     "output_type": "stream",
     "text": [
      "100%|████████████████████████████████████████████████████████████████████████████████| 903/903 [00:33<00:00, 27.15it/s]\n",
      "100%|███████████████████████████████████████████████████████████████████████████████| 159/159 [00:01<00:00, 116.54it/s]\n",
      "  0%|▎                                                                                 | 3/903 [00:00<00:33, 27.02it/s]"
     ]
    },
    {
     "name": "stdout",
     "output_type": "stream",
     "text": [
      "Train Loss : 0.053, Validation Loss : 3.189\n",
      "Train Acc  : 0.981, Validation Acc  : 0.714\n",
      "Epoch 20\n",
      "\n"
     ]
    },
    {
     "name": "stderr",
     "output_type": "stream",
     "text": [
      "100%|████████████████████████████████████████████████████████████████████████████████| 903/903 [00:32<00:00, 27.61it/s]\n",
      "100%|███████████████████████████████████████████████████████████████████████████████| 159/159 [00:01<00:00, 125.84it/s]\n",
      "  1%|▌                                                                                 | 6/903 [00:00<00:31, 28.40it/s]"
     ]
    },
    {
     "name": "stdout",
     "output_type": "stream",
     "text": [
      "Train Loss : 0.046, Validation Loss : 2.93\n",
      "Train Acc  : 0.983, Validation Acc  : 0.716\n",
      "Epoch 21\n",
      "\n"
     ]
    },
    {
     "name": "stderr",
     "output_type": "stream",
     "text": [
      "100%|████████████████████████████████████████████████████████████████████████████████| 903/903 [00:31<00:00, 28.25it/s]\n",
      "100%|███████████████████████████████████████████████████████████████████████████████| 159/159 [00:01<00:00, 126.77it/s]\n",
      "  0%|▎                                                                                 | 3/903 [00:00<00:31, 28.84it/s]"
     ]
    },
    {
     "name": "stdout",
     "output_type": "stream",
     "text": [
      "Train Loss : 0.042, Validation Loss : 3.097\n",
      "Train Acc  : 0.985, Validation Acc  : 0.718\n",
      "Epoch 22\n",
      "\n"
     ]
    },
    {
     "name": "stderr",
     "output_type": "stream",
     "text": [
      "100%|████████████████████████████████████████████████████████████████████████████████| 903/903 [00:32<00:00, 27.60it/s]\n",
      "100%|███████████████████████████████████████████████████████████████████████████████| 159/159 [00:01<00:00, 103.64it/s]\n",
      "  0%|▎                                                                                 | 3/903 [00:00<00:36, 24.79it/s]"
     ]
    },
    {
     "name": "stdout",
     "output_type": "stream",
     "text": [
      "Train Loss : 0.037, Validation Loss : 3.252\n",
      "Train Acc  : 0.987, Validation Acc  : 0.716\n",
      "Epoch 23\n",
      "\n"
     ]
    },
    {
     "name": "stderr",
     "output_type": "stream",
     "text": [
      "100%|████████████████████████████████████████████████████████████████████████████████| 903/903 [00:34<00:00, 25.96it/s]\n",
      "100%|███████████████████████████████████████████████████████████████████████████████| 159/159 [00:01<00:00, 106.83it/s]\n",
      "  0%|▎                                                                                 | 3/903 [00:00<00:33, 26.78it/s]"
     ]
    },
    {
     "name": "stdout",
     "output_type": "stream",
     "text": [
      "Train Loss : 0.04, Validation Loss : 3.761\n",
      "Train Acc  : 0.987, Validation Acc  : 0.715\n",
      "Epoch 24\n",
      "\n"
     ]
    },
    {
     "name": "stderr",
     "output_type": "stream",
     "text": [
      "100%|████████████████████████████████████████████████████████████████████████████████| 903/903 [00:33<00:00, 27.30it/s]\n",
      "100%|███████████████████████████████████████████████████████████████████████████████| 159/159 [00:01<00:00, 124.00it/s]\n",
      "  0%|▎                                                                                 | 3/903 [00:00<00:30, 29.41it/s]"
     ]
    },
    {
     "name": "stdout",
     "output_type": "stream",
     "text": [
      "Train Loss : 0.033, Validation Loss : 4.17\n",
      "Train Acc  : 0.989, Validation Acc  : 0.721\n",
      "Epoch 25\n",
      "\n"
     ]
    },
    {
     "name": "stderr",
     "output_type": "stream",
     "text": [
      "100%|████████████████████████████████████████████████████████████████████████████████| 903/903 [00:31<00:00, 28.76it/s]\n",
      "100%|███████████████████████████████████████████████████████████████████████████████| 159/159 [00:01<00:00, 124.87it/s]\n",
      "  0%|▎                                                                                 | 3/903 [00:00<00:31, 28.84it/s]"
     ]
    },
    {
     "name": "stdout",
     "output_type": "stream",
     "text": [
      "Train Loss : 0.032, Validation Loss : 3.926\n",
      "Train Acc  : 0.989, Validation Acc  : 0.716\n",
      "Epoch 26\n",
      "\n"
     ]
    },
    {
     "name": "stderr",
     "output_type": "stream",
     "text": [
      "100%|████████████████████████████████████████████████████████████████████████████████| 903/903 [00:31<00:00, 28.73it/s]\n",
      "100%|███████████████████████████████████████████████████████████████████████████████| 159/159 [00:01<00:00, 126.06it/s]\n",
      "  0%|▎                                                                                 | 3/903 [00:00<00:31, 28.56it/s]"
     ]
    },
    {
     "name": "stdout",
     "output_type": "stream",
     "text": [
      "Train Loss : 0.028, Validation Loss : 3.442\n",
      "Train Acc  : 0.99, Validation Acc  : 0.717\n",
      "Epoch 27\n",
      "\n"
     ]
    },
    {
     "name": "stderr",
     "output_type": "stream",
     "text": [
      "100%|████████████████████████████████████████████████████████████████████████████████| 903/903 [00:32<00:00, 27.93it/s]\n",
      "100%|███████████████████████████████████████████████████████████████████████████████| 159/159 [00:01<00:00, 121.08it/s]\n",
      "  0%|▎                                                                                 | 3/903 [00:00<00:31, 28.56it/s]"
     ]
    },
    {
     "name": "stdout",
     "output_type": "stream",
     "text": [
      "Train Loss : 0.027, Validation Loss : 4.112\n",
      "Train Acc  : 0.991, Validation Acc  : 0.721\n",
      "Epoch 28\n",
      "\n"
     ]
    },
    {
     "name": "stderr",
     "output_type": "stream",
     "text": [
      "100%|████████████████████████████████████████████████████████████████████████████████| 903/903 [00:32<00:00, 28.04it/s]\n",
      "100%|███████████████████████████████████████████████████████████████████████████████| 159/159 [00:01<00:00, 124.09it/s]\n",
      "  1%|▌                                                                                 | 6/903 [00:00<00:31, 28.90it/s]"
     ]
    },
    {
     "name": "stdout",
     "output_type": "stream",
     "text": [
      "Train Loss : 0.025, Validation Loss : 3.468\n",
      "Train Acc  : 0.991, Validation Acc  : 0.709\n",
      "Epoch 29\n",
      "\n"
     ]
    },
    {
     "name": "stderr",
     "output_type": "stream",
     "text": [
      "100%|████████████████████████████████████████████████████████████████████████████████| 903/903 [00:32<00:00, 27.83it/s]\n",
      "100%|███████████████████████████████████████████████████████████████████████████████| 159/159 [00:01<00:00, 125.07it/s]\n",
      "  0%|▎                                                                                 | 3/903 [00:00<00:31, 28.57it/s]"
     ]
    },
    {
     "name": "stdout",
     "output_type": "stream",
     "text": [
      "Train Loss : 0.024, Validation Loss : 4.55\n",
      "Train Acc  : 0.991, Validation Acc  : 0.72\n",
      "Epoch 30\n",
      "\n"
     ]
    },
    {
     "name": "stderr",
     "output_type": "stream",
     "text": [
      "100%|████████████████████████████████████████████████████████████████████████████████| 903/903 [00:31<00:00, 28.40it/s]\n",
      "100%|███████████████████████████████████████████████████████████████████████████████| 159/159 [00:01<00:00, 124.78it/s]"
     ]
    },
    {
     "name": "stdout",
     "output_type": "stream",
     "text": [
      "Train Loss : 0.022, Validation Loss : 3.182\n",
      "Train Acc  : 0.993, Validation Acc  : 0.717\n"
     ]
    },
    {
     "name": "stderr",
     "output_type": "stream",
     "text": [
      "\n"
     ]
    }
   ],
   "source": [
    "epochs = 30\n",
    "\n",
    "train_loss = []\n",
    "train_acc = []\n",
    "\n",
    "val_loss = []\n",
    "val_acc = []\n",
    "\n",
    "for epoch in range(1, epochs+1):\n",
    "    print('Epoch {}\\n'.format(epoch))\n",
    "    train_epoch_loss, train_epoch_acc, val_epoch_loss, val_epoch_acc = train_epoch()\n",
    "    \n",
    "    train_loss.append(train_epoch_loss)\n",
    "    train_acc.append(train_epoch_acc)\n",
    "    \n",
    "    val_loss.append(val_epoch_loss)\n",
    "    val_acc.append(val_epoch_acc)\n",
    "    \n",
    "    print('Train Loss : {}, Validation Loss : {}'.format(\n",
    "                                                    round(train_epoch_loss, 3), \n",
    "                                                    round(val_epoch_loss, 3)\n",
    "                                                         ))\n",
    "    print('Train Acc  : {}, Validation Acc  : {}'.format(\n",
    "                                                    round(train_epoch_acc, 3),  \n",
    "                                                    round(val_epoch_acc, 3)\n",
    "                                                        ))"
   ]
  },
  {
   "cell_type": "markdown",
   "id": "1a833e17-3feb-40d6-a6b6-a02db9ad0d5b",
   "metadata": {},
   "source": [
    "# **Visualize the Performance Metrics**"
   ]
  },
  {
   "cell_type": "code",
   "execution_count": 63,
   "id": "e9757522-3eb6-4936-8c4b-e3b8b5f0d4ac",
   "metadata": {},
   "outputs": [
    {
     "data": {
      "image/png": "[encoded data removed]",
      "text/plain": [
       "<Figure size 1440x432 with 2 Axes>"
      ]
     },
     "metadata": {
      "needs_background": "light"
     },
     "output_type": "display_data"
    }
   ],
   "source": [
    "fig = plt.figure(figsize = (20, 6))\n",
    "plt.subplot(1, 2, 1)\n",
    "plt.plot(train_acc, label='Train Accuracy')\n",
    "plt.plot(val_acc, label='Validation Accuracy')\n",
    "plt.title(\"Accuracy\")\n",
    "plt.legend()\n",
    "plt.grid()\n",
    "    \n",
    "plt.subplot(1, 2, 2)\n",
    "plt.plot(train_loss, label='Train loss')\n",
    "plt.plot(val_loss, label='Validation loss')\n",
    "plt.title(\"Loss\")\n",
    "plt.legend()\n",
    "plt.grid()\n",
    "\n",
    "plt.title('Performance Metrics of Sentiment Analysis Model')\n",
    "plt.savefig('performance.png')\n",
    "plt.show()"
   ]
  },
  {
   "cell_type": "code",
   "execution_count": null,
   "id": "7af9ff28-551d-4cfd-89fb-a40262d99b42",
   "metadata": {},
   "outputs": [],
   "source": []
  }
 ],
 "metadata": {
  "kernelspec": {
   "display_name": "Python 3 (ipykernel)",
   "language": "python",
   "name": "python3"
  },
  "language_info": {
   "codemirror_mode": {
    "name": "ipython",
    "version": 3
   },
   "file_extension": ".py",
   "mimetype": "text/x-python",
   "name": "python",
   "nbconvert_exporter": "python",
   "pygments_lexer": "ipython3",
   "version": "3.8.12"
  }
 },
 "nbformat": 4,
 "nbformat_minor": 5
}